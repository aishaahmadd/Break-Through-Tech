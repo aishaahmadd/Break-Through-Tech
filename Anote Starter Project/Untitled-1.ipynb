{
 "cells": [
  {
   "cell_type": "code",
   "execution_count": 12,
   "metadata": {},
   "outputs": [],
   "source": [
    "import cv2\n",
    "import torch\n",
    "import transformers\n",
    "from torchvision import models, transforms\n",
    "from PIL import Image"
   ]
  },
  {
   "cell_type": "code",
   "execution_count": 3,
   "metadata": {},
   "outputs": [],
   "source": [
    "#capturing from webcam\n",
    "cap = cv2.VideoCapture(0)\n",
    "ret, frame = cap.read()\n",
    "if ret:\n",
    "    cv2.imwrite('captured_image.jpg', frame)\n",
    "cap.release()"
   ]
  },
  {
   "cell_type": "code",
   "execution_count": 16,
   "metadata": {},
   "outputs": [],
   "source": [
    "model = models.detection.fasterrcnn_resnet50_fpn(pretrained=True)\n",
    "model.eval()\n",
    "\n",
    "\n",
    "# Define a transform to convert image to tensor\n",
    "transform = transforms.Compose([\n",
    "    transforms.ToTensor(),\n",
    "])\n",
    "\n",
    "# Load the image and apply the transformation\n",
    "image = Image.open('download.jpg')\n",
    "image_tensor = transform(image).unsqueeze(0)  # Add batch dimension"
   ]
  },
  {
   "cell_type": "code",
   "execution_count": 6,
   "metadata": {},
   "outputs": [],
   "source": [
    "#performing object detection\n",
    "with torch.no_grad():\n",
    "    predictions = model(image_tensor)"
   ]
  },
  {
   "cell_type": "code",
   "execution_count": 18,
   "metadata": {},
   "outputs": [
    {
     "name": "stdout",
     "output_type": "stream",
     "text": [
      "loading annotations into memory...\n",
      "Done (t=0.57s)\n",
      "creating index...\n",
      "index created!\n"
     ]
    }
   ],
   "source": [
    "from pycocotools.coco import COCO\n",
    "\n",
    "# Load COCO dataset metadata\n",
    "coco = COCO(\"instances_val2017.json\")  # Replace with the correct path to annotations\n",
    "\n",
    "# Get the categories and their names\n",
    "categories = coco.loadCats(coco.getCatIds())\n",
    "coco_labels = {cat['id']: cat['name'] for cat in categories}\n",
    "\n",
    "# Now, coco_labels will map from category ID to the corresponding name"
   ]
  },
  {
   "cell_type": "code",
   "execution_count": 20,
   "metadata": {},
   "outputs": [
    {
     "name": "stdout",
     "output_type": "stream",
     "text": [
      "Detected objects: cup (confidence: 0.71)\n"
     ]
    }
   ],
   "source": [
    "detected_objects = []\n",
    "for element in range(len(predictions[0]['labels'])):\n",
    "    label_id = predictions[0]['labels'][0].item()  # Example label ID from model output\n",
    "    label = coco_labels[label_id]\n",
    "    score = predictions[0]['scores'][element].item()\n",
    "    if score > 0.5:  # Threshold to filter weak detections\n",
    "        detected_objects.append(f\"{label} (confidence: {score:.2f})\")\n",
    "\n",
    "description = \"Detected objects: \" + \", \".join(detected_objects)\n",
    "print(description)"
   ]
  }
 ],
 "metadata": {
  "kernelspec": {
   "display_name": "Python 3",
   "language": "python",
   "name": "python3"
  },
  "language_info": {
   "codemirror_mode": {
    "name": "ipython",
    "version": 3
   },
   "file_extension": ".py",
   "mimetype": "text/x-python",
   "name": "python",
   "nbconvert_exporter": "python",
   "pygments_lexer": "ipython3",
   "version": "3.10.11"
  }
 },
 "nbformat": 4,
 "nbformat_minor": 2
}
